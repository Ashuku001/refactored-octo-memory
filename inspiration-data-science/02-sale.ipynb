{
 "cells": [
  {
   "cell_type": "code",
   "execution_count": 1,
   "metadata": {},
   "outputs": [],
   "source": [
    "import pandas as pd\n",
    "import numpy as np\n",
    "import seaborn as sns\n",
    "import matplotlib.pyplot as plt\n",
    "import matplotlib.style\n",
    "\n",
    "# from mlxtend.frequent_patterns import apriori,association_rules\n",
    "from collections import Counter\n",
    "from IPython.display import Image"
   ]
  },
  {
   "cell_type": "code",
   "execution_count": 2,
   "metadata": {},
   "outputs": [],
   "source": [
    "# orders_df = pd.read_excel(\"Data/Rec_sys_data.xlsx\", sheet_name=\"order\")\n",
    "# products_df = pd.read_excel(\"Data/Rec_sys_data.xlsx\", sheet_name=\"product\")\n",
    "orders_df = pd.read_excel(\"Data/orders_transformed.xlsx\", sheet_name=\"order\")\n",
    "orders_df = orders_df.dropna()\n",
    "products = pd.read_excel(\"Data/Rec_sys_data.xlsx\", sheet_name=\"product\")\n",
    "products = products.dropna()"
   ]
  },
  {
   "cell_type": "code",
   "execution_count": 3,
   "metadata": {},
   "outputs": [
    {
     "data": {
      "text/plain": [
       "(3706, 6)"
      ]
     },
     "execution_count": 3,
     "metadata": {},
     "output_type": "execute_result"
    }
   ],
   "source": [
    "products.shape"
   ]
  },
  {
   "cell_type": "code",
   "execution_count": 20,
   "metadata": {},
   "outputs": [],
   "source": [
    "# for index, row in orders_df.iterrows():\n",
    "#     stock_code = row['StockCode']\n",
    "#     matching_product = products_df[products_df['StockCode'] == stock_code]\n",
    "#     if not matching_product.empty:\n",
    "#         orders_df.at[index, 'unitPrice'] = matching_product['Unit Price'].values[0]"
   ]
  },
  {
   "cell_type": "code",
   "execution_count": 21,
   "metadata": {},
   "outputs": [],
   "source": [
    "# orders_df.to_excel(\"Data/orders_transformed.xlsx\", sheet_name=\"order\")"
   ]
  },
  {
   "cell_type": "code",
   "execution_count": 3,
   "metadata": {},
   "outputs": [
    {
     "data": {
      "text/plain": [
       "56"
      ]
     },
     "execution_count": 3,
     "metadata": {},
     "output_type": "execute_result"
    }
   ],
   "source": [
    "def increment_counter():\n",
    "    if not hasattr(increment_counter, \"counter\"):\n",
    "        increment_counter.counter = 55  # Initialize it for the first time\n",
    "    increment_counter.counter += 1\n",
    "    return increment_counter.counter\n",
    "increment_counter()"
   ]
  },
  {
   "cell_type": "code",
   "execution_count": 4,
   "metadata": {},
   "outputs": [],
   "source": [
    "def get_id(id, count):\n",
    "    try:\n",
    "        return int(id)\n",
    "    except:\n",
    "        return count"
   ]
  },
  {
   "cell_type": "code",
   "execution_count": 5,
   "metadata": {},
   "outputs": [
    {
     "data": {
      "text/plain": [
       "(271492, 11)"
      ]
     },
     "execution_count": 5,
     "metadata": {},
     "output_type": "execute_result"
    }
   ],
   "source": [
    "orders_df = orders_df.dropna()\n",
    "orders_df.shape"
   ]
  },
  {
   "cell_type": "code",
   "execution_count": 3,
   "metadata": {},
   "outputs": [],
   "source": [
    "productIds  = [22629,21238,22181,84879,84836,22716,23357,57,23283,22098,21621,23355,21155,23110,22952,21246,20972,22037,85178,58,22139,22402,23343,23661,21498,84991,84978,21264,20728,22970,82486,21932,22734,84378,23345,23084,21259,21864,82600,23193,21217,84012,22652,23424,21232,23236,22776,23217,59,23245,22625,22866,21086,23321,22906,22326,21992,21928,21802,60,22470,22677,22857,23206,22609,23007,22277,22085,22437,22620,23120,21871,21791,21915,21936,21524,61,22173,48194,22502,22086,21128,20677,23012,23297,23083,23581,22042,22745,21068,22815,23230,23204,22847,23294,23551,22607,21844,23080,62,23173,63,64,22568,65,22212,22619,22935,21071,22891,22621,22818,66,16238,67,23392,21154,22623,23328,21452,22722,68,22055,22082,22837,23166,21981,23147,23350,23167,69,22422,23322,23065,23089,22856,21539,22170,70,35970,71,22382,72,22616,16045,20867,23396,21272,21989,21696,22817,22070,21906,22562,22602,22156,73,22035,23289,22245,22960,22558,20971,22439,22739,21181,22178,21754,21035,22472,22555,23229,21931,21479,21014,22150,22993,22129,22111,22649,20982,22680,74,23402,22589,23388,84686,23569,22794,82482,85066,22710,23187,21175,22065,90098,22678,22321,22751,22944,22992,22659,22956,21742,21917,85078,22580,84944,23275,75,23323,22727,22699,22411,22729,22149,84945,22356,20724,76,77,21615,22597,22943,21868,23016,22262,84992,21744,22858,22644,84380,16016,22914,22995,22781,21506,22821,22783,82567,23032,78,21808,21793,21884,85038,79,21733,23499,21390,22365,80,22214,22242,22919,23183,22673,23538,20998,22077,21136,81,82,21622,84840,20981,22979,16218,83,23175,22715,22696,23452,22487,84,21955,84832,22168,22927,22560,85,23437,21579,22749,86,22320,23177,21934,22324,23556,21642,23497,82552,21033,20964,87,22473,22915,22627,22249,22550,22153,20674,22244,84347,71053,22865,23222,20974,21916,22430,23266,22949,88,89,23213,22332,23178,21774,84792,21313,21135,23199,21812,21985,85152,90,23664,22026,23394,91,22900,21794,23352,20734,20996,23171,92,22874,21811,21509,21918,85204,22798,22565,21069,21448,22232,22305,21654,23411,23191,21935,21623,23414,93,22517,72819,22654,22599,22027,20658,22748,21288,23180,22488,84950,22436,22294,46118,94,23306,21688,23568,95,22829,23366,23239,23068,23314,90100,96,84466,23205,21159,23186,22302,23485,21402,22270,22046,21041,23094,22031,23315,23049,23154,22376,97,22838,98,22813,22982,21039,21619,22304,21454,22917,22738,21385,22524,23225,22969,23460,23368,23008,22260,99,20615,100,101,22972,22083,22849,102,21677,23412,85016,22503,21215,20985,103,23157,22314,104,85116,105,21520,106,20897,21042,23542,23310,22182,22754,22842,107,108,21126,20669,85106,109,22393,23347,22637,20796,110,22354,21164,23358,111,112,21195,22684,113,21823,22427,114,115,116,23092,16225,23242,23039,21591,21263,117,23416,23553,23415,23406,22593,118,82551,23444,23555,119,120,21040,20931,90094,121,84499,23303,122,22741,22862,123,37501,21872,23381,124,125,20857,126,84598,21781,35967,127,23267,23451,22826,21311,128,129,21359,22345,22021,22519,22890,130,20684,23270,23421,131,22406,132,133,22040,134,21458,135,23523,21336,22575,23401,21739,23464,21946,136,137,138,21709,21100,139,140,16052,22709,21394,23150,20699,141,22903,142,21285,21250,22832,75178,21683,21467,79329,22313,21310,21260,143,23398,22307,22719,144,22687,145,21063,84227,23047,23524,146,147,23644,22954,148,20803,149,22855,23359,23475,23660,21368,22119,20756,21196,22394,23507,84915,150,44235,151,84576,35653,152,84816,22034,153,84631,23046,23477,44234,23468,154,72815,84843,20769,20748,155,21743,21031,156,37343,79331,157,21690,22145,23611,21349,158,21750,23562,85198,159,90144,160,161,162,163,20827,164,85125,165,166,23019,167,85215,21269,90091,22157,22770,23607,168,20759,169,35832,170,21720,84192,84723,171,20802,21821,172,173,23430,21722,16010,174,175,90204,176,177,21657,90101,178,179,180,23645,84975,181,182,23463,183,37423,20845,90076,184,35645,185,186,37509,187,22828,188,22987,189,84497,190,23448,191,192,193,84691,194,23621,195,196,197,23627,198,199,21653,200,21160,201,202,203,204,205,206,23605,21134,90021,84620,207,208,209,210,]"
   ]
  },
  {
   "cell_type": "code",
   "execution_count": 6,
   "metadata": {},
   "outputs": [],
   "source": [
    "images_prod = [{\n",
    "        \"url\": \"https://cloud.appwrite.io/v1/storage/buckets/657c8507c305096354f8/files/65e0c3bad4f8f7d8554e/download?project=657c827f1c5737986d84\",\n",
    "        \"productId\": id,\n",
    "        \"storeId\": 1,\n",
    "        \"createdAt\": \"NEW\",\n",
    "        \"updatedAt\": \"NEW\"\n",
    "    } for id in productIds]"
   ]
  },
  {
   "cell_type": "code",
   "execution_count": 7,
   "metadata": {},
   "outputs": [],
   "source": [
    "with open('images.txt', 'w') as file:\n",
    "    for dictionary in images_prod:\n",
    "        # Write the dictionary as a string\n",
    "        file.write(str(dictionary) + ',\\n')"
   ]
  },
  {
   "cell_type": "code",
   "execution_count": 7,
   "metadata": {},
   "outputs": [],
   "source": [
    "new_array = np.array(range(52, 1015))"
   ]
  },
  {
   "cell_type": "code",
   "execution_count": 8,
   "metadata": {},
   "outputs": [],
   "source": [
    "prod_arrays = np.array(productIds)"
   ]
  },
  {
   "cell_type": "code",
   "execution_count": 9,
   "metadata": {},
   "outputs": [
    {
     "data": {
      "text/plain": [
       "723"
      ]
     },
     "execution_count": 9,
     "metadata": {},
     "output_type": "execute_result"
    }
   ],
   "source": [
    "len(prod_arrays)"
   ]
  },
  {
   "cell_type": "code",
   "execution_count": 10,
   "metadata": {},
   "outputs": [],
   "source": [
    "sale_detail = []\n",
    "for index, row in orders_df.iterrows():\n",
    "    if row[\"StockCode\"] in prod_arrays:\n",
    "        id = int(row[\"StockCode\"])\n",
    "        sale_detail.append({\n",
    "            \"salesId\": int(row[\"InvoiceNo\"]),\n",
    "            \"productId\": id,\n",
    "            \"quantity\": row[\"Quantity\"],\n",
    "            \"discount\": row[\"Discount%\"],\n",
    "            \"unitPrice\": row[\"unitPrice\"],\n",
    "            \"createdAt\": row[\"InvoiceDate\"],\n",
    "            \"updatedAt\": row[\"InvoiceDate\"]\n",
    "        })\n",
    "    else:\n",
    "        continue   "
   ]
  },
  {
   "cell_type": "code",
   "execution_count": 11,
   "metadata": {},
   "outputs": [
    {
     "data": {
      "text/plain": [
       "(68044, (271492, 11))"
      ]
     },
     "execution_count": 11,
     "metadata": {},
     "output_type": "execute_result"
    }
   ],
   "source": [
    "len(sale_detail), orders_df.shape"
   ]
  },
  {
   "cell_type": "code",
   "execution_count": 12,
   "metadata": {},
   "outputs": [],
   "source": [
    "with open('detail.txt', 'w') as file:\n",
    "    for dictionary in sale_detail:\n",
    "        # Write the dictionary as a string\n",
    "        file.write(str(dictionary) + ',\\n')"
   ]
  },
  {
   "cell_type": "code",
   "execution_count": 13,
   "metadata": {},
   "outputs": [],
   "source": [
    "no_duplicates = orders_df.drop_duplicates(subset=[\"InvoiceNo\"], keep='last')"
   ]
  },
  {
   "cell_type": "code",
   "execution_count": 14,
   "metadata": {},
   "outputs": [
    {
     "data": {
      "text/plain": [
       "((13366, 11), 13366)"
      ]
     },
     "execution_count": 14,
     "metadata": {},
     "output_type": "execute_result"
    }
   ],
   "source": [
    "no_duplicates.shape, orders_df[\"InvoiceNo\"].nunique()"
   ]
  },
  {
   "cell_type": "code",
   "execution_count": 15,
   "metadata": {},
   "outputs": [],
   "source": [
    "sales = [{\n",
    "        \"id\": int(row[\"InvoiceNo\"]),\n",
    "        \"customerId\": int(row[\"CustomerID\"]),\n",
    "        \"saleDate\": row[\"InvoiceDate\"],\n",
    "        \"invoiceNo\": str(row[\"InvoiceNo\"]),\n",
    "        \"storeId\": 1,\n",
    "        \"createdAt\": row[\"InvoiceDate\"],\n",
    "        \"updatedAt\": row[\"InvoiceDate\"],\n",
    "        # \"totalAmount\": row[\"quantity\"] * row[\"\"]\n",
    "    } for index, row in no_duplicates.iterrows()]"
   ]
  },
  {
   "cell_type": "code",
   "execution_count": 16,
   "metadata": {},
   "outputs": [],
   "source": [
    "with open('sale.txt', 'w') as file:\n",
    "    for dictionary in sales:\n",
    "        # Write the dictionary as a string\n",
    "        file.write(str(dictionary) + ',\\n')"
   ]
  },
  {
   "cell_type": "code",
   "execution_count": null,
   "metadata": {},
   "outputs": [],
   "source": [
    "shipping = [{\n",
    "        \"salesId\": row[\"InvoiceNo\"],\n",
    "        \"shipMode\": row[\"ShipMode\"],\n",
    "        \"shippingCost\": row[\"ShippingCost\"],\n",
    "        \"deliveryDate\": row[\"DeliveryDate\"],\n",
    "        \"createdAt\": \"NEW DATE\",\n",
    "        \"updatedAt\": \"NEW DATE\"\n",
    "    } for index, row in orders_df[4000:].iterrows()]"
   ]
  }
 ],
 "metadata": {
  "kernelspec": {
   "display_name": "Python 3",
   "language": "python",
   "name": "python3"
  },
  "language_info": {
   "codemirror_mode": {
    "name": "ipython",
    "version": 3
   },
   "file_extension": ".py",
   "mimetype": "text/x-python",
   "name": "python",
   "nbconvert_exporter": "python",
   "pygments_lexer": "ipython3",
   "version": "3.12.3"
  }
 },
 "nbformat": 4,
 "nbformat_minor": 2
}
